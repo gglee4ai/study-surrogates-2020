{
    "cells": [
        {
            "cell_type": "markdown",
            "metadata": {},
            "source": [
                "# 3.1 Path of steepest ascent\n",
                "\n"
            ]
        },
        {
            "cell_type": "code",
            "execution_count": null,
            "metadata": {},
            "outputs": [],
            "source": [
                "first.order <- function(x1, x2) {\n",
                "  20 + 3*x1 - 1.5*x2\n",
                "}\n"
            ]
        },
        {
            "cell_type": "markdown",
            "metadata": {},
            "source": [
                "\n",
                "\n"
            ]
        },
        {
            "cell_type": "code",
            "execution_count": null,
            "metadata": {},
            "outputs": [],
            "source": [
                "x1 <- x2 <- seq(-2, 3.5, length=1000)\n",
                "g <- expand.grid(x1, x2)\n",
                "yhat <- matrix(first.order(g[,1], g[,2]), ncol=length(x2))\n",
                "D <- rbind(c(-1,-1), c(-1,1), c(1,-1), c(1,1))\n",
                "D\n"
            ]
        },
        {
            "cell_type": "markdown",
            "metadata": {},
            "source": [
                "\n",
                "\n"
            ]
        },
        {
            "cell_type": "code",
            "execution_count": null,
            "metadata": {},
            "outputs": [],
            "source": [
                "cols <- heat.colors(128)\n",
                "par(pty=\"s\")\n",
                "image(x1, x2, yhat, col=cols)\n",
                "contour(x1, x2, yhat, add=TRUE)\n",
                "points(D, pch=19)\n",
                "points(0, 0)\n",
                "arrows(0, 0, 3, -1.5)\n"
            ]
        },
        {
            "cell_type": "markdown",
            "metadata": {},
            "source": [
                "\n",
                "\n"
            ]
        },
        {
            "cell_type": "code",
            "execution_count": null,
            "metadata": {},
            "outputs": [],
            "source": [
                "par(pty=\"s\")\n",
                "image(x1, x2, yhat, col=cols)\n",
                "contour(x1, x2, yhat, add=TRUE)\n",
                "points(D, pch=19)\n",
                "points(0, 0)\n",
                "arrows(0, 0, 3, -1.5)\n",
                "library(plotrix)\n",
                "draw.circle(0, 0, 1)\n",
                "text(1, 0, \"r1\")\n",
                "draw.circle(0, 0, 1.75)\n",
                "text(1.75, 0, \"r2 > r1\")\n"
            ]
        },
        {
            "cell_type": "markdown",
            "metadata": {},
            "source": [
                "\n",
                "\n"
            ]
        },
        {
            "cell_type": "code",
            "execution_count": null,
            "metadata": {},
            "outputs": [],
            "source": [
                "plasma <- read.table(\"dataset/plasma.txt\", header=TRUE)\n",
                "plasma\n"
            ]
        },
        {
            "cell_type": "markdown",
            "metadata": {},
            "source": [
                "\n",
                "\n"
            ]
        },
        {
            "cell_type": "code",
            "execution_count": null,
            "metadata": {},
            "outputs": [],
            "source": [
                "library(magrittr)\n",
                "fit.int <- lm(etch ~ x1*x2, data=plasma)\n",
                "summary(fit.int)\n",
                "#summary(fit.int)$coefficients %>% signif(digits=4)\n"
            ]
        },
        {
            "cell_type": "markdown",
            "metadata": {},
            "source": [
                "\n",
                "\n"
            ]
        },
        {
            "cell_type": "code",
            "execution_count": null,
            "metadata": {},
            "outputs": [],
            "source": [
                "fit <- lm(etch ~ x1 + x2, data=plasma)\n",
                "summary(fit)\n",
                "coef(fit)\n"
            ]
        },
        {
            "cell_type": "markdown",
            "metadata": {},
            "source": [
                "\n",
                "\n"
            ]
        },
        {
            "cell_type": "code",
            "execution_count": null,
            "metadata": {},
            "outputs": [],
            "source": [
                "AIC(fit, fit.int)\n",
                "BIC(fit, fit.int)\n"
            ]
        },
        {
            "cell_type": "markdown",
            "metadata": {},
            "source": [
                "\n",
                "\n"
            ]
        },
        {
            "cell_type": "code",
            "execution_count": null,
            "metadata": {},
            "outputs": [],
            "source": [
                "b1 <- coef(fit)[2]\n",
                "b2 <- coef(fit)[3]\n",
                "delta2 <- abs(b2/b1)\n",
                "delta2\n"
            ]
        },
        {
            "cell_type": "markdown",
            "metadata": {},
            "source": [
                "\n",
                "\n"
            ]
        },
        {
            "cell_type": "code",
            "execution_count": null,
            "metadata": {},
            "outputs": [],
            "source": [
                "Dnew <- data.frame(x1=-1:-3, x2=(1:3)*delta2)\n",
                "Dnew\n"
            ]
        },
        {
            "cell_type": "markdown",
            "metadata": {},
            "source": [
                "\n",
                "\n"
            ]
        },
        {
            "cell_type": "code",
            "execution_count": null,
            "metadata": {},
            "outputs": [],
            "source": [
                "x1 <- seq(-4, 1.5, length=100)\n",
                "# x2 <- seq(-1.5, 4*delta2, length=100) \n",
                "x2 <- seq(-1.5, 4, length=100)  # aspect ratio = 1 유지\n",
                "g <- expand.grid(x1=x1, x2=x2)\n",
                "yhat <- matrix(predict(fit, newdata=g), ncol=length(x2))\n"
            ]
        },
        {
            "cell_type": "markdown",
            "metadata": {},
            "source": [
                "\n",
                "\n"
            ]
        },
        {
            "cell_type": "code",
            "execution_count": null,
            "metadata": {},
            "outputs": [],
            "source": [
                "par(pty=\"s\")\n",
                "image(x1, x2, yhat, col=cols)\n",
                "contour(x1, x2, yhat, add=TRUE)\n",
                "points(plasma$x1, plasma$x2, pch=19)\n",
                "points(0, 0)\n",
                "arrows(0, 0, -3.5, 3.5*delta2)\n",
                "points(Dnew)\n"
            ]
        },
        {
            "cell_type": "markdown",
            "metadata": {},
            "source": [
                "\n",
                "\n"
            ]
        },
        {
            "cell_type": "code",
            "execution_count": null,
            "metadata": {},
            "outputs": [],
            "source": [
                "plasma.delta <- read.table(\"dataset/plasma_delta.txt\", header=TRUE)\n",
                "plasma.delta$p.etch <- predict(fit, newdata=plasma.delta[,4:5])\n",
                "plasma.delta\n"
            ]
        },
        {
            "cell_type": "markdown",
            "metadata": {},
            "source": [
                "\n",
                "\n"
            ]
        },
        {
            "cell_type": "code",
            "execution_count": null,
            "metadata": {},
            "outputs": [],
            "source": [
                "max(plasma$etch)\n",
                "\n"
            ]
        },
        {
            "cell_type": "markdown",
            "metadata": {},
            "source": [
                "\n",
                "\n"
            ]
        },
        {
            "cell_type": "code",
            "execution_count": null,
            "metadata": {},
            "outputs": [],
            "source": [
                "r <- cbind(c(1, 2), c(100, 150), c(500, 1000), c(75, 120))\n",
                "colnames(r) <- c(\"vel\", \"temp\", \"mpress\", \"bpress\")\n",
                "r\n"
            ]
        },
        {
            "cell_type": "markdown",
            "metadata": {},
            "source": [
                "\n",
                "\n"
            ]
        },
        {
            "cell_type": "code",
            "execution_count": null,
            "metadata": {},
            "outputs": [],
            "source": [
                "base <- r[1,] + (r[2,] - r[1,])/2\n",
                "base\n"
            ]
        },
        {
            "cell_type": "markdown",
            "metadata": {},
            "source": [
                "\n",
                "\n"
            ]
        },
        {
            "cell_type": "code",
            "execution_count": null,
            "metadata": {},
            "outputs": [],
            "source": [
                "b <- c(-5.24, -6.22, -1.21, -1.07)\n",
                "delta <- b/b[1]\n",
                "delta\n"
            ]
        },
        {
            "cell_type": "markdown",
            "metadata": {},
            "source": [
                "\n",
                "\n"
            ]
        },
        {
            "cell_type": "code",
            "execution_count": null,
            "metadata": {},
            "outputs": [],
            "source": [
                "path <- rbind(0, apply(matrix(rep(delta, 4), ncol=4, byrow=TRUE), 2, cumsum))\n",
                "colnames(path) <- paste0(\"x\", 1:4)\n",
                "rownames(path) <- paste0(\"Base +\", 0:4, \"Δ\")\n",
                "path\n"
            ]
        },
        {
            "cell_type": "markdown",
            "metadata": {},
            "source": [
                "\n",
                "\n"
            ]
        },
        {
            "cell_type": "code",
            "execution_count": null,
            "metadata": {},
            "outputs": [],
            "source": [
                "dnat <- delta*(r[2,] - r[1,])/2\n",
                "dnat\n"
            ]
        },
        {
            "cell_type": "markdown",
            "metadata": {},
            "source": [
                "\n",
                "\n"
            ]
        },
        {
            "cell_type": "code",
            "execution_count": null,
            "metadata": {},
            "outputs": [],
            "source": [
                "matrix(rep(base, 4), ncol=4, byrow=TRUE)\n",
                "\n"
            ]
        },
        {
            "cell_type": "markdown",
            "metadata": {},
            "source": [
                "\n",
                "\n"
            ]
        },
        {
            "cell_type": "code",
            "execution_count": null,
            "metadata": {},
            "outputs": [],
            "source": [
                "pnat <- rbind(base, matrix(rep(base, 4), ncol=4, byrow=TRUE) + \n",
                "                apply(matrix(rep(dnat, 4), ncol=4, byrow=TRUE), 2, cumsum))\n",
                "colnames(pnat) <- c(\"ft/sec\", \"°C\", \"psi\", \"psi\")\n",
                "rownames(pnat) <- rownames(path)\n",
                "signif(cbind(path, pnat), digits=5)\n"
            ]
        },
        {
            "cell_type": "markdown",
            "metadata": {},
            "source": [
                "\n",
                "\n"
            ]
        },
        {
            "cell_type": "code",
            "execution_count": null,
            "metadata": {},
            "outputs": [],
            "source": [
                "x1 <- seq(0, 1, length=1000)\n",
                "x2 <- sqrt(1 - x1^2)\n",
                "x1 <- c(x1, x1)\n",
                "x2 <- c(x2, -x2)\n",
                "ci95 <- (3*x1 - 1.5*x2)^2 >= 9.3225\n",
                "\n",
                "par(pty=\"s\")\n",
                "plot(0, type=\"n\", xlim=c(-2, 3.5), ylim=c(-2, 3.5), xlab=\"x1\", ylab=\"x2\")\n",
                "points(D, pch=19)\n",
                "points(0, 0)\n",
                "arrows(0, 0, 3, -1.5)\n",
                "points(x1, x2, col=2 + ci95, pch=19, cex=0.5)\n",
                "#plot(x1, x2)\n"
            ]
        },
        {
            "cell_type": "markdown",
            "metadata": {},
            "source": [
                "\n",
                "\n"
            ]
        },
        {
            "cell_type": "code",
            "execution_count": null,
            "metadata": {},
            "outputs": [],
            "source": [
                "theta <- asin(sqrt(0.25*7.71*(1/11.25)))\n",
                "theta\n"
            ]
        },
        {
            "cell_type": "markdown",
            "metadata": {},
            "source": [
                "\n",
                "\n"
            ]
        },
        {
            "cell_type": "code",
            "execution_count": null,
            "metadata": {},
            "outputs": [],
            "source": [
                "O <- c(4/3, 8/3)\n",
                "\n"
            ]
        },
        {
            "cell_type": "markdown",
            "metadata": {},
            "source": [
                "\n",
                "\n"
            ]
        },
        {
            "cell_type": "code",
            "execution_count": null,
            "metadata": {},
            "outputs": [],
            "source": [
                "par(pty=\"s\")\n",
                "plot(0, 0, type=\"n\", xlab=\"x1\", ylab=\"x2\", xlim=c(0, 4), ylim=c(0, 5))\n",
                "arrows(0, 0, O[1], O[2], col=2, lwd=3)\n",
                "arrows(O[1], O[2], 3, 2 + 3/2, col=3, lwd=3)\n",
                "text(O[1] - 0.1, O[2] + 0.2, \"O\")\n",
                "abline(0, 2, lty=2)\n",
                "abline(2, 0.5, lty=3)\n",
                "text(1.5, 1, \"steepest ascent\", col=2)\n",
                "text(2.5, 2.7, \"constrained\", col=3)\n"
            ]
        },
        {
            "cell_type": "markdown",
            "metadata": {},
            "source": [
                "\n",
                "\n"
            ]
        },
        {
            "cell_type": "code",
            "execution_count": null,
            "metadata": {},
            "outputs": [],
            "source": [
                "upper <- c(150, 100, 40)\n",
                "lower <- c(100, 50, 20)\n",
                "scale <- (upper - lower) / 2\n",
                "shift <- scale + lower\n",
                "toxi <- data.frame(scale=scale, shift=shift)\n",
                "toxi\n"
            ]
        },
        {
            "cell_type": "markdown",
            "metadata": {},
            "source": [
                "\n",
                "\n"
            ]
        },
        {
            "cell_type": "code",
            "execution_count": null,
            "metadata": {},
            "outputs": [],
            "source": [
                "c <- c(-300, 25, 25, 0)\n",
                "\n"
            ]
        },
        {
            "cell_type": "markdown",
            "metadata": {},
            "source": [
                "\n",
                "\n"
            ]
        },
        {
            "cell_type": "code",
            "execution_count": null,
            "metadata": {},
            "outputs": [],
            "source": [
                "b <- c(150, 1.7, 0.8, 0.5)\n",
                "\n"
            ]
        },
        {
            "cell_type": "markdown",
            "metadata": {},
            "source": [
                "\n",
                "\n"
            ]
        },
        {
            "cell_type": "code",
            "execution_count": null,
            "metadata": {},
            "outputs": [],
            "source": [
                "rhoo <- -c[1]/sum(c[-1]*b[-1])\n",
                "rhoo\n"
            ]
        },
        {
            "cell_type": "markdown",
            "metadata": {},
            "source": [
                "\n",
                "\n"
            ]
        },
        {
            "cell_type": "code",
            "execution_count": null,
            "metadata": {},
            "outputs": [],
            "source": [
                "xo <- rhoo*b[-1]\n",
                "xo\n"
            ]
        },
        {
            "cell_type": "markdown",
            "metadata": {},
            "source": [
                "\n",
                "\n"
            ]
        },
        {
            "cell_type": "code",
            "execution_count": null,
            "metadata": {},
            "outputs": [],
            "source": [
                "d <- as.numeric(coef(lm(b[-1] ~ c[-1] - 1)))\n",
                "d\n"
            ]
        },
        {
            "cell_type": "markdown",
            "metadata": {},
            "source": [
                "\n",
                "\n"
            ]
        },
        {
            "cell_type": "code",
            "execution_count": null,
            "metadata": {},
            "outputs": [],
            "source": [
                "hpath <- function(lambda, b, c, rhoo, d)\n",
                " {\n",
                "  ## steepest ascent up to one step past the constraint boundary\n",
                "  delta <- b/b[1]\n",
                "  path <- matrix(0, ncol=length(b), nrow=1)\n",
                "  while(1) {\n",
                "    lpath <- nrow(path)\n",
                "    path <- rbind(path, path[lpath,] + delta)\n",
                "    if(c[1] + sum(path[lpath + 1,]*c[-1]) > 0) break\n",
                "  }\n",
                "    \n",
                "  ## intersection point plus steps along the modified portion\n",
                "  cpath <- rhoo*b\n",
                "  for(i in 1:length(lambda)) {\n",
                "    cpath <- rbind(cpath, rhoo*b + lambda[i]*(b - d*c[-1]))\n",
                "  }\n",
                "    \n",
                "  ## pasting the hybrid path together and naming the rows and columns\n",
                "  path <- rbind(path[1:lpath,], cpath)\n",
                "  colnames(path) <- paste(\"x\", 1:length(b), sep=\"\")\n",
                "  rownames(path) <- c(rep(\"u\", lpath), \"o\", rep(\"c\", length(lambda)))\n",
                "  return(path)\n",
                " }\n"
            ]
        },
        {
            "cell_type": "markdown",
            "metadata": {},
            "source": [
                "\n",
                "\n"
            ]
        },
        {
            "cell_type": "code",
            "execution_count": null,
            "metadata": {},
            "outputs": [],
            "source": [
                "lambda <- c(1,2,3,4)\n",
                "path <- hpath(lambda, b[-1], c, rhoo, d)\n"
            ]
        },
        {
            "cell_type": "markdown",
            "metadata": {},
            "source": [
                "\n",
                "\n"
            ]
        },
        {
            "cell_type": "code",
            "execution_count": null,
            "metadata": {},
            "outputs": [],
            "source": [
                "A <- matrix(rep(toxi[,1], nrow(path)), ncol=ncol(path), byrow=TRUE)\n",
                "B <- matrix(rep(toxi[,2], nrow(path)), ncol=ncol(path), byrow=TRUE)\n",
                "pathxi <- A * path + B\n",
                "colnames(pathxi) <- paste(\"xi\", 1:3, sep=\"\")\n",
                "pathxi\n"
            ]
        },
        {
            "cell_type": "markdown",
            "metadata": {},
            "source": [
                "\n",
                "\n"
            ]
        },
        {
            "cell_type": "code",
            "execution_count": null,
            "metadata": {},
            "outputs": [],
            "source": [
                "pathxi[4:5,]\n",
                "\n"
            ]
        },
        {
            "cell_type": "markdown",
            "metadata": {},
            "source": [
                "## 3.2 Second-order response surfaces\n",
                "\n"
            ]
        },
        {
            "cell_type": "code",
            "execution_count": null,
            "metadata": {},
            "outputs": [],
            "source": [
                "second.order <- function(x1, x2) {\n",
                "  100 + 5*x1 + 10*x2 - 8*x1^2 - 12*x2^2 - 12*x1*x2\n",
                "}\n"
            ]
        },
        {
            "cell_type": "markdown",
            "metadata": {},
            "source": [
                "\n",
                "\n"
            ]
        },
        {
            "cell_type": "code",
            "execution_count": null,
            "metadata": {},
            "outputs": [],
            "source": [
                "x1 <- x2 <- seq(-4, 5, length=100)\n",
                "g <- expand.grid(x1, x2)\n",
                "y <- matrix(second.order(g[,1], g[,2]), ncol=length(x2))\n"
            ]
        },
        {
            "cell_type": "markdown",
            "metadata": {},
            "source": [
                "\n",
                "\n"
            ]
        },
        {
            "cell_type": "code",
            "execution_count": null,
            "metadata": {},
            "outputs": [],
            "source": [
                "persp(x1, x2, y, theta=30, phi=30, zlab=\"eta\", expand=0.75, lwd=0.25)\n",
                "\n"
            ]
        },
        {
            "cell_type": "markdown",
            "metadata": {},
            "source": [
                "\n",
                "\n"
            ]
        },
        {
            "cell_type": "code",
            "execution_count": null,
            "metadata": {},
            "outputs": [],
            "source": [
                "par(pty=\"s\")\n",
                "image(x1, x2, y, col=heat.colors(128))\n",
                "contour(x1, x2, y, add=TRUE)\n"
            ]
        },
        {
            "cell_type": "markdown",
            "metadata": {},
            "source": [
                "\n",
                "\n"
            ]
        },
        {
            "cell_type": "code",
            "execution_count": null,
            "metadata": {},
            "outputs": [],
            "source": [
                "dy <- rbind(c(16, 12), c(12, 24))\n",
                "xh <- solve(dy, c(5, 10))\n",
                "#yh <- 100 + 5*xh[1] + 10*xh[2] - 8*xh[1]^2 - 12*xh[2]^2 - 12*xh[1]*xh[2]\n",
                "yh <- second.order(xh[1], xh[2])\n",
                "c(x1=xh[1], x2=xh[2], y=yh)\n"
            ]
        },
        {
            "cell_type": "markdown",
            "metadata": {},
            "source": [
                "\n",
                "\n"
            ]
        },
        {
            "cell_type": "code",
            "execution_count": null,
            "metadata": {},
            "outputs": [],
            "source": [
                "b0 <- 100\n",
                "b <- c(5, 10)\n",
                "B <- matrix(c(-8, -12/2, -12/2, -12), ncol=2, byrow=TRUE)\n",
                "B\n"
            ]
        },
        {
            "cell_type": "markdown",
            "metadata": {},
            "source": [
                "\n",
                "\n"
            ]
        },
        {
            "cell_type": "code",
            "execution_count": null,
            "metadata": {},
            "outputs": [],
            "source": [
                "xs <- -0.5*solve(B) %*% b\n",
                "ys <- b0 + 0.5*t(xs) %*% b\n",
                "sols <- rbind(h = c(xh, yh), s=c(xs, ys))\n",
                "colnames(sols) <- c(\"x1\", \"x2\", \"y\")\n",
                "sols\n"
            ]
        },
        {
            "cell_type": "markdown",
            "metadata": {},
            "source": [
                "\n",
                "\n"
            ]
        },
        {
            "cell_type": "code",
            "execution_count": null,
            "metadata": {},
            "outputs": [],
            "source": [
                "E <- eigen(B)\n",
                "lambda <- E$values\n",
                "o <- order(abs(lambda), decreasing=TRUE)\n",
                "lambda <- lambda[o]\n",
                "lambda\n"
            ]
        },
        {
            "cell_type": "markdown",
            "metadata": {},
            "source": [
                "\n",
                "\n"
            ]
        },
        {
            "cell_type": "code",
            "execution_count": null,
            "metadata": {},
            "outputs": [],
            "source": [
                "V <- E$vectors[,o]\n",
                "V\n"
            ]
        },
        {
            "cell_type": "markdown",
            "metadata": {},
            "source": [
                "\n",
                "\n"
            ]
        },
        {
            "cell_type": "code",
            "execution_count": null,
            "metadata": {},
            "outputs": [],
            "source": [
                "par(pty=\"s\")\n",
                "image(x1, x2, y, col=cols)\n",
                "contour(x1, x2, y, add=TRUE)\n",
                "lines(c(-V[1,1], V[1,1])*10 + xs[1], c(-V[2,1], V[2,1])*10 + xs[2], lty=2)\n",
                "lines(c(-V[1,2], V[1,2])*10 + xs[1], c(-V[2,2], V[2,2])*10 + xs[2], lty=2)\n"
            ]
        },
        {
            "cell_type": "markdown",
            "metadata": {},
            "source": [
                "\n",
                "\n"
            ]
        },
        {
            "cell_type": "code",
            "execution_count": null,
            "metadata": {},
            "outputs": [],
            "source": [
                "chem <- read.table(\"dataset/chemical.txt\", header=TRUE)\n",
                "chem\n",
                "uchem <- unique(chem[,1:2])\n",
                "uchem\n"
            ]
        },
        {
            "cell_type": "markdown",
            "metadata": {},
            "source": [
                "\n",
                "\n"
            ]
        },
        {
            "cell_type": "code",
            "execution_count": null,
            "metadata": {},
            "outputs": [],
            "source": [
                "library(dplyr)\n",
                "chem %>% \n",
                "  group_by(x1, x2) %>% \n",
                "  summarize(n = n(), .groups=\"drop\") %>% \n",
                "  ungroup() #%>% \n",
                "  #pull(n) -> reps\n",
                "#reps\n"
            ]
        },
        {
            "cell_type": "markdown",
            "metadata": {},
            "source": [
                "\n",
                "\n"
            ]
        },
        {
            "cell_type": "code",
            "execution_count": null,
            "metadata": {},
            "outputs": [],
            "source": [
                "reps <- apply(uchem, 1, function(x) {\n",
                "  sum(apply(chem[,1:2], 1, function(y) { all(y == x) }))\n",
                "})\n",
                "reps\n"
            ]
        },
        {
            "cell_type": "markdown",
            "metadata": {},
            "source": [
                "\n",
                "\n"
            ]
        },
        {
            "cell_type": "code",
            "execution_count": null,
            "metadata": {},
            "outputs": [],
            "source": [
                "par(pty=\"s\")\n",
                "plot(uchem, type=\"n\")\n",
                "text(uchem, labels=reps)\n"
            ]
        },
        {
            "cell_type": "markdown",
            "metadata": {},
            "source": [
                "\n",
                "\n"
            ]
        },
        {
            "cell_type": "code",
            "execution_count": null,
            "metadata": {},
            "outputs": [],
            "source": [
                "X <- with(chem, data.frame(x1=x1, x2=x2, x11=x1^2, x22=x2^2, x12=x1*x2))\n",
                "y <- chem$y\n",
                "fit <- lm(y ~ ., data=X)\n",
                "summary(fit)\n"
            ]
        },
        {
            "cell_type": "markdown",
            "metadata": {},
            "source": [
                "\n",
                "\n"
            ]
        },
        {
            "cell_type": "code",
            "execution_count": null,
            "metadata": {},
            "outputs": [],
            "source": [
                "r <- cbind(c(200, 250), c(15, 25))\n",
                "d <- (r[2,] - r[1,])/2\n",
                "xi1 <- seq(min(chem$temp), max(chem$temp), length=100)\n",
                "xi2 <- seq(min(chem$conc), max(chem$conc), length=100)\n",
                "xi <- expand.grid(xi1, xi2)\n",
                "x <- cbind((xi[,1] - r[2,1] + d[1])/d[1], (xi[,2] - r[2,2] + d[2])/d[2])\n"
            ]
        },
        {
            "cell_type": "markdown",
            "metadata": {},
            "source": [
                "\n",
                "\n"
            ]
        },
        {
            "cell_type": "code",
            "execution_count": null,
            "metadata": {},
            "outputs": [],
            "source": [
                "XX <- data.frame(x1=x[,1], x2=x[,2], x11=x[,1]^2, x22=x[,2]^2, x12=x[,1]*x[,2])\n",
                "p <- predict(fit, newdata=XX)\n",
                "head(p)\n"
            ]
        },
        {
            "cell_type": "markdown",
            "metadata": {},
            "source": [
                "\n",
                "\n"
            ]
        },
        {
            "cell_type": "code",
            "execution_count": null,
            "metadata": {},
            "outputs": [],
            "source": [
                "par(pty=\"s\")\n",
                "xlab <- \"Temperature (°C)\"\n",
                "ylab <- \"Concentration (%)\"\n",
                "image(xi1, xi2, matrix(p, nrow=length(xi1)), col=cols, xlab=xlab, ylab=ylab)\n",
                "contour(xi1, xi2, matrix(p, nrow=length(xi1)), add=TRUE)\n"
            ]
        },
        {
            "cell_type": "markdown",
            "metadata": {},
            "source": [
                "\n",
                "\n"
            ]
        },
        {
            "cell_type": "code",
            "execution_count": null,
            "metadata": {},
            "outputs": [],
            "source": [
                "b <- coef(fit)[2:3]\n",
                "B <- matrix(NA, nrow=2, ncol=2)\n",
                "diag(B) <- coef(fit)[4:5]\n",
                "B[1, 2] <- B[2, 1] <- coef(fit)[6]/2\n",
                "xs <- -1/2*solve(B, b)\n",
                "xs\n"
            ]
        },
        {
            "cell_type": "markdown",
            "metadata": {},
            "source": [
                "\n",
                "\n"
            ]
        },
        {
            "cell_type": "code",
            "execution_count": null,
            "metadata": {},
            "outputs": [],
            "source": [
                "xis <- xs*d + (r[2,] - d)\n",
                "xis\n"
            ]
        },
        {
            "cell_type": "markdown",
            "metadata": {},
            "source": [
                "\n",
                "\n"
            ]
        },
        {
            "cell_type": "code",
            "execution_count": null,
            "metadata": {},
            "outputs": [],
            "source": [
                "E <- eigen(B)\n",
                "E\n"
            ]
        },
        {
            "cell_type": "markdown",
            "metadata": {},
            "source": [
                "\n",
                "\n"
            ]
        },
        {
            "cell_type": "code",
            "execution_count": null,
            "metadata": {},
            "outputs": [],
            "source": [
                "lambda <- E$values\n",
                "o <- order(abs(lambda), decreasing=TRUE)\n",
                "lambda <- lambda[o]\n",
                "V <- E$vectors[,o]\n",
                "Vxi <- V\n",
                "for(j in 1:ncol(Vxi)) Vxi[,j] <- Vxi[,j]*d*10\n"
            ]
        },
        {
            "cell_type": "markdown",
            "metadata": {},
            "source": [
                "\n",
                "\n"
            ]
        },
        {
            "cell_type": "code",
            "execution_count": null,
            "metadata": {},
            "outputs": [],
            "source": [
                "par(pty=\"s\")\n",
                "image(xi1, xi2, matrix(p, nrow=length(xi1)), col=cols, xlab=xlab, ylab=ylab)\n",
                "contour(xi1, xi2, matrix(p, nrow=length(xi1)), add=TRUE)\n",
                "lines(c(-Vxi[1,1], Vxi[1,1])+xis[1], c(-Vxi[2,1], Vxi[2,1])+xis[2], lty=2)\n",
                "lines(c(-Vxi[1,2], Vxi[1,2])+xis[1], c(-Vxi[2,2], Vxi[2,2])+xis[2], lty=2)\n",
                "points(xis[1], xis[2])\n",
                "text(xis[1], xis[2], \"xs\", pos=4)\n"
            ]
        },
        {
            "cell_type": "markdown",
            "metadata": {},
            "source": [
                "\n",
                "\n"
            ]
        },
        {
            "cell_type": "code",
            "execution_count": null,
            "metadata": {},
            "outputs": [],
            "source": [
                "ys <- as.numeric(coef(fit)[1] + 0.5*t(xs) %*% b)\n",
                "ys\n"
            ]
        },
        {
            "cell_type": "markdown",
            "metadata": {},
            "source": [
                "\n",
                "\n"
            ]
        },
        {
            "cell_type": "code",
            "execution_count": null,
            "metadata": {},
            "outputs": [],
            "source": [
                "rr <- read.table(\"dataset/risingridge.txt\", header=TRUE)\n",
                "rr\n"
            ]
        },
        {
            "cell_type": "markdown",
            "metadata": {},
            "source": [
                "\n",
                "\n"
            ]
        },
        {
            "cell_type": "code",
            "execution_count": null,
            "metadata": {},
            "outputs": [],
            "source": [
                "rr$A2 <- rr$A^2\n",
                "rr$B2 <- rr$B^2\n",
                "rr$AB <- rr$A*rr$B\n",
                "rr\n"
            ]
        },
        {
            "cell_type": "markdown",
            "metadata": {},
            "source": [
                "\n",
                "\n"
            ]
        },
        {
            "cell_type": "code",
            "execution_count": null,
            "metadata": {},
            "outputs": [],
            "source": [
                "fit <- lm(y ~ ., data=rr)\n",
                "summary(fit)\n"
            ]
        },
        {
            "cell_type": "markdown",
            "metadata": {},
            "source": [
                "\n",
                "\n"
            ]
        },
        {
            "cell_type": "code",
            "execution_count": null,
            "metadata": {},
            "outputs": [],
            "source": [
                "b <- coef(fit)[2:3]\n",
                "B <- matrix(NA, nrow=2, ncol=2)\n",
                "diag(B) <- coef(fit)[4:5]\n",
                "B[1,2] <- B[2,1] <- coef(fit)[6]/2\n",
                "xs <- -1/2*solve(B, b)\n",
                "xs\n"
            ]
        },
        {
            "cell_type": "markdown",
            "metadata": {},
            "source": [
                "\n",
                "\n"
            ]
        },
        {
            "cell_type": "code",
            "execution_count": null,
            "metadata": {},
            "outputs": [],
            "source": [
                "apply(rr[,1:2], 2, range)\n",
                "\n"
            ]
        },
        {
            "cell_type": "markdown",
            "metadata": {},
            "source": [
                "\n",
                "\n"
            ]
        },
        {
            "cell_type": "code",
            "execution_count": null,
            "metadata": {},
            "outputs": [],
            "source": [
                "E <- eigen(B)\n",
                "lambda <- E$values\n",
                "o <- order(abs(lambda), decreasing=TRUE)\n",
                "V <- E$vectors[,o]*20\n",
                "lambda <- lambda[o]\n",
                "lambda\n"
            ]
        },
        {
            "cell_type": "markdown",
            "metadata": {},
            "source": [
                "\n",
                "\n"
            ]
        },
        {
            "cell_type": "code",
            "execution_count": null,
            "metadata": {},
            "outputs": [],
            "source": [
                "ys <- coef(fit)[1] + 0.5*t(xs) %*% b\n",
                "ys\n"
            ]
        },
        {
            "cell_type": "markdown",
            "metadata": {},
            "source": [
                "\n",
                "\n"
            ]
        },
        {
            "cell_type": "code",
            "execution_count": null,
            "metadata": {},
            "outputs": [],
            "source": [
                "x <- seq(-6, 6, length=100)\n",
                "xx <- expand.grid(x, x)\n",
                "XX <- data.frame(A=xx[,1], B=xx[,2], A2=xx[,1]^2, B2=xx[,2]^2, AB=xx[,1]*xx[,2])\n",
                "p <- predict(fit, newdata=XX)\n",
                "par(pty=\"s\")\n",
                "image(x, x, matrix(p, nrow=length(x)), col=cols, xlab=\"A\", ylab=\"B\")\n",
                "contour(x, x, matrix(p, nrow=length(x)), add=TRUE)\n",
                "lines(c(-V[1,1], V[1,1]) + xs[1], c(-V[2,1], V[2,1]) + xs[2], lty=2)\n",
                "lines(c(-V[1,2], V[1,2]) + xs[1], c(-V[2,2], V[2,2]) + xs[2], lty=2)\n",
                "polygon(c(1,1,-1,-1), c(1,-1,-1,1), lty=3)\n",
                "text(0, -0.5, \"design region\", cex=0.5)\n",
                "points(xs[1], xs[2])\n",
                "text(xs[1], xs[2], \"xs\", pos=4)\n"
            ]
        },
        {
            "cell_type": "markdown",
            "metadata": {},
            "source": [
                "\n",
                "\n"
            ]
        },
        {
            "cell_type": "code",
            "execution_count": null,
            "metadata": {},
            "outputs": [],
            "source": [
                "saddle <- read.table(\"dataset/saddle.txt\", header=TRUE)\n",
                "saddle <- cbind(saddle[,-5]^2, model.matrix(~ .^2 - 1, saddle[,-5]), y=saddle[,5])\n",
                "names(saddle)[1:4] <- paste(\"x\", 1:4, 1:4, sep=\"\")\n",
                "names(saddle)[9:14] <- sub(\":x\", \"\", names(saddle)[9:14])\n",
                "saddle <- saddle[c(5:8, 1:4, 9:15)]\n",
                "\n",
                "saddle\n"
            ]
        },
        {
            "cell_type": "markdown",
            "metadata": {},
            "source": [
                "\n",
                "\n"
            ]
        },
        {
            "cell_type": "code",
            "execution_count": null,
            "metadata": {},
            "outputs": [],
            "source": [
                "fit <- lm(y ~ ., data=saddle)\n",
                "summary(fit)\n"
            ]
        },
        {
            "cell_type": "markdown",
            "metadata": {},
            "source": [
                "\n",
                "\n"
            ]
        },
        {
            "cell_type": "code",
            "execution_count": null,
            "metadata": {},
            "outputs": [],
            "source": [
                "b <- coef(fit)[2:5]\n",
                "B <- matrix(NA, nrow=4, ncol=4)\n",
                "diag(B) <- coef(fit)[6:9]\n",
                "i <- 10\n",
                "for (j in 1:3) {\n",
                "  for (k in (j+1):4) {\n",
                "    B[j,k] <- B[k,j] <- coef(fit)[i]/2\n",
                "    i <- i + 1\n",
                "  }\n",
                "}\n"
            ]
        },
        {
            "cell_type": "markdown",
            "metadata": {},
            "source": [
                "\n",
                "\n"
            ]
        },
        {
            "cell_type": "code",
            "execution_count": null,
            "metadata": {},
            "outputs": [],
            "source": [
                "xs <- -1/2*solve(B, b)\n",
                "xs\n"
            ]
        },
        {
            "cell_type": "markdown",
            "metadata": {},
            "source": [
                "\n",
                "\n"
            ]
        },
        {
            "cell_type": "code",
            "execution_count": null,
            "metadata": {},
            "outputs": [],
            "source": [
                "apply(saddle[,1:4], 2, range)\n",
                "\n"
            ]
        },
        {
            "cell_type": "markdown",
            "metadata": {},
            "source": [
                "\n",
                "\n"
            ]
        },
        {
            "cell_type": "code",
            "execution_count": null,
            "metadata": {},
            "outputs": [],
            "source": [
                "E <- eigen(B)\n",
                "lambda <- E$values\n",
                "o <- order(abs(lambda), decreasing=TRUE)\n",
                "lambda <- lambda[o]\n",
                "lambda\n"
            ]
        },
        {
            "cell_type": "markdown",
            "metadata": {},
            "source": [
                "\n",
                "\n"
            ]
        },
        {
            "cell_type": "code",
            "execution_count": null,
            "metadata": {},
            "outputs": [],
            "source": [
                "mul <- max(lambda)\n",
                "mul\n",
                "x <- solve(B - mul*diag(4), -b/2)\n",
                "x\n"
            ]
        },
        {
            "cell_type": "markdown",
            "metadata": {},
            "source": [
                "\n",
                "\n"
            ]
        },
        {
            "cell_type": "code",
            "execution_count": null,
            "metadata": {},
            "outputs": [],
            "source": [
                "f <- function(mu, R2=1) {\n",
                "  x <- solve(B - mu*diag(4), -b/2)\n",
                "  R2 - t(x) %*% x\n",
                "}\n"
            ]
        },
        {
            "cell_type": "markdown",
            "metadata": {},
            "source": [
                "\n",
                "\n"
            ]
        },
        {
            "cell_type": "code",
            "execution_count": null,
            "metadata": {},
            "outputs": [],
            "source": [
                "mu <- uniroot(f, c(mul, 10*mul), R2=1.4^2)$root\n",
                "mu\n"
            ]
        },
        {
            "cell_type": "markdown",
            "metadata": {},
            "source": [
                "\n",
                "\n"
            ]
        },
        {
            "cell_type": "code",
            "execution_count": null,
            "metadata": {},
            "outputs": [],
            "source": [
                "x <- solve(B - mu*diag(4), -b/2)\n",
                "x\n"
            ]
        },
        {
            "cell_type": "markdown",
            "metadata": {},
            "source": [
                "\n",
                "\n"
            ]
        },
        {
            "cell_type": "code",
            "execution_count": null,
            "metadata": {},
            "outputs": [],
            "source": [
                "drop(sqrt(t(x) %*% x))\n",
                "\n"
            ]
        },
        {
            "cell_type": "markdown",
            "metadata": {},
            "source": [
                "\n",
                "\n"
            ]
        },
        {
            "cell_type": "code",
            "execution_count": null,
            "metadata": {},
            "outputs": [],
            "source": [
                "mus <- rs <- seq(0.1, 2, length=20)\n",
                "xp <- matrix(NA, nrow=length(rs), ncol=4)\n",
                "colnames(xp) <- c(\"x1\", \"x2\", \"x3\", \"x4\")\n",
                "for(i in 1:length(rs)) {\n",
                "  mus[i] <- uniroot(f, c(mul, 100*mul), R2=rs[i]^2)$root\n",
                "  xp[i,] <- solve(B - mus[i]*diag(4), -b/2)\n",
                "}\n",
                "xp <- rbind(rep(0, 4), xp)\n",
                "rs <- c(0, rs)\n",
                "mus <- c(Inf, mus)\n",
                "mus\n"
            ]
        },
        {
            "cell_type": "markdown",
            "metadata": {},
            "source": [
                "\n",
                "\n"
            ]
        },
        {
            "cell_type": "code",
            "execution_count": null,
            "metadata": {},
            "outputs": [],
            "source": [
                "Xp <- data.frame(xp)\n",
                "Xp <- cbind(Xp^2, model.matrix(~ .^2 - 1, Xp))\n",
                "names(Xp)[1:4] <- paste(\"x\", 1:4, 1:4, sep=\"\")\n",
                "names(Xp)[9:14] <- sub(\":x\", \"\", names(Xp)[9:14])\n",
                "Xp <- Xp[c(5:8, 1:4, 9:14)]\n",
                "Xp\n"
            ]
        },
        {
            "cell_type": "markdown",
            "metadata": {},
            "source": [
                "\n",
                "\n"
            ]
        },
        {
            "cell_type": "code",
            "execution_count": null,
            "metadata": {},
            "outputs": [],
            "source": [
                "p <- predict(fit, newdata=Xp, se.fit=TRUE)\n",
                "\n"
            ]
        },
        {
            "cell_type": "markdown",
            "metadata": {},
            "source": [
                "\n",
                "\n"
            ]
        },
        {
            "cell_type": "code",
            "execution_count": null,
            "metadata": {},
            "outputs": [],
            "source": [
                "cbind(R=rs, mu=mus, data.frame(pred=p$fit, se=p$se.fit), round(xp, 6))\n",
                "\n"
            ]
        },
        {
            "cell_type": "markdown",
            "metadata": {},
            "source": [
                "\n",
                "\n"
            ]
        },
        {
            "cell_type": "code",
            "execution_count": null,
            "metadata": {},
            "outputs": [],
            "source": [
                "par(pty=\"s\")\n",
                "plot(rs, p$fit, type=\"b\", ylim=c(20, 100), xlab=\"radius (R)\", ylab=\"y.hat(x) & CIs\")\n",
                "lines(rs, p$fit + 2*p$se, col=2, lty=2)\n",
                "lines(rs, p$fit - 2*p$se, col=2, lty=2)\n"
            ]
        },
        {
            "cell_type": "markdown",
            "metadata": {},
            "source": [
                "\n",
                "\n"
            ]
        },
        {
            "cell_type": "code",
            "execution_count": null,
            "metadata": {},
            "outputs": [],
            "source": [
                "x12 <- seq(-2, 2, length=100)\n",
                "g <- expand.grid(x12, x12)\n",
                "Xp <- data.frame(x1=g[,1], x2=g[,2], x11=g[,1]^2, x22=g[,2]^2, x12=g[,1]*g[,2])\n",
                "Xp\n"
            ]
        },
        {
            "cell_type": "markdown",
            "metadata": {},
            "source": [
                "\n",
                "\n"
            ]
        },
        {
            "cell_type": "code",
            "execution_count": null,
            "metadata": {},
            "outputs": [],
            "source": [
                "## x3 = x4 = 0\n",
                "Xp$x3 <- Xp$x33 <- Xp$x4 <- Xp$x44 <-Xp$x34 <- 0\n",
                "Xp$x13 <- Xp$x14 <- Xp$x23 <- Xp$x24 <- Xp$x34 <- 0\n",
                "p0 <- predict(fit, newdata=Xp, se.fit=TRUE)\n",
                "\n",
                "## x3 = x4 = 1\n",
                "Xp$x3 <- Xp$x33 <- Xp$x4 <- Xp$x44 <-Xp$x34 <- 1\n",
                "Xp$x13 <- Xp$x14 <- Xp$X23 <- Xp$X24 <- Xp$X34 <- 1\n",
                "p1 <- predict(fit, newdata=Xp, se.fit=TRUE)\n"
            ]
        },
        {
            "cell_type": "markdown",
            "metadata": {},
            "source": [
                "\n",
                "\n"
            ]
        },
        {
            "cell_type": "code",
            "execution_count": null,
            "metadata": {},
            "outputs": [],
            "source": [
                "par(mfrow=c(1, 2), pty=\"s\")\n",
                "bs <- seq(min(p0$se.fit), max(p0$se.fit), length=129)\n",
                "image(x12, x12, matrix(p0$se.fit, nrow=length(x12)), col=cols,\n",
                "      breaks=bs, xlab=\"x1\", ylab=\"x2\", main=\"se.fit, x3 = x4 = 0\")\n",
                "contour(x12, x12, matrix(p0$se.fit, nrow=length(x12)), add=TRUE)\n",
                "points(saddle[,1:2])\n",
                "points(saddle[apply(saddle[,3:4] == c(0,0), 1, all), 1:2], pch=19)\n",
                "\n",
                "image(x12, x12, matrix(p1$se.fit, nrow=length(x12)), col=cols,\n",
                "      breaks=bs, xlab=\"x1\", ylab=\"x2\", main=\"se.fit, x3 = x4 = 1\")\n",
                "contour(x12, x12, matrix(p1$se.fit, nrow=length(x12)), add=TRUE)\n",
                "points(saddle[,1:2])\n",
                "points(saddle[apply(saddle[,3:4] == c(1, 1), 1, all), 1:2], pch=19)\n"
            ]
        },
        {
            "cell_type": "markdown",
            "metadata": {},
            "source": [
                "\n",
                "\n"
            ]
        },
        {
            "cell_type": "code",
            "execution_count": null,
            "metadata": {},
            "outputs": [],
            "source": [
                "crdat <- read.table(\"dataset/confreg.txt\", header=TRUE)\n",
                "crdat\n"
            ]
        },
        {
            "cell_type": "markdown",
            "metadata": {},
            "source": [
                "\n",
                "\n"
            ]
        },
        {
            "cell_type": "code",
            "execution_count": null,
            "metadata": {},
            "outputs": [],
            "source": [
                "crdat$x11 <- crdat$x1^2\n",
                "crdat$x22 <- crdat$x2^2\n",
                "crdat$x12 <- crdat$x1 * crdat$x2\n",
                "crdat\n"
            ]
        },
        {
            "cell_type": "markdown",
            "metadata": {},
            "source": [
                "\n",
                "\n"
            ]
        },
        {
            "cell_type": "code",
            "execution_count": null,
            "metadata": {},
            "outputs": [],
            "source": [
                "fit <- lm(y ~ ., data=crdat)\n",
                "summary(fit)\n"
            ]
        },
        {
            "cell_type": "markdown",
            "metadata": {},
            "source": [
                "\n",
                "\n"
            ]
        },
        {
            "cell_type": "code",
            "execution_count": null,
            "metadata": {},
            "outputs": [],
            "source": [
                "b <- coef(fit)[2:3]\n",
                "B <- matrix(NA, nrow=2, ncol=2)\n",
                "diag(B) <- coef(fit)[4:5]\n",
                "B[1,2] <- B[2,1] <- coef(fit)[6]/2\n",
                "xs <- -(1/2)*solve(B, b)\n",
                "xs\n"
            ]
        },
        {
            "cell_type": "markdown",
            "metadata": {},
            "source": [
                "\n",
                "\n"
            ]
        },
        {
            "cell_type": "code",
            "execution_count": null,
            "metadata": {},
            "outputs": [],
            "source": [
                "eigen(B)$values\n",
                "\n"
            ]
        },
        {
            "cell_type": "markdown",
            "metadata": {},
            "source": [
                "\n",
                "\n"
            ]
        },
        {
            "cell_type": "code",
            "execution_count": null,
            "metadata": {},
            "outputs": [],
            "source": [
                "xx <- xx <- seq(-1.6, 1.6, length=200)\n",
                "g <- expand.grid(xx, xx)\n",
                "XX <- data.frame(x1=g[,1], x2=g[,2], x11=g[,1]^2, x22=g[,2]^2, x12=g[,1]*g[,2])\n",
                "p <- as.numeric(predict(fit, newdata=XX))\n",
                "head(p)\n"
            ]
        },
        {
            "cell_type": "markdown",
            "metadata": {},
            "source": [
                "\n",
                "\n"
            ]
        },
        {
            "cell_type": "code",
            "execution_count": null,
            "metadata": {},
            "outputs": [],
            "source": [
                "par(pty=\"s\")\n",
                "image(xx, xx, matrix(p, nrow=length(xx)), col=cols, xlab=\"x1\", ylab=\"x2\")\n",
                "contour(xx, xx, matrix(p, nrow=length(xx)), add=TRUE)\n",
                "points(crdat$x1, crdat$x2, pch=20)\n",
                "points(xs[1], xs[2])\n",
                "text(xs[1], xs[2], \"xs\", pos=4)\n"
            ]
        },
        {
            "cell_type": "markdown",
            "metadata": {},
            "source": [
                "\n",
                "\n"
            ]
        },
        {
            "cell_type": "code",
            "execution_count": null,
            "metadata": {},
            "outputs": [],
            "source": [
                "d <- rbind(c(b[1], 2*B[,1]), c(b[2], 2*B[,2]))\n",
                "colnames(d) <- c(\"(Intercept)\", \"t1\", \"t2\")\n",
                "d\n"
            ]
        },
        {
            "cell_type": "markdown",
            "metadata": {},
            "source": [
                "\n",
                "\n"
            ]
        },
        {
            "cell_type": "code",
            "execution_count": null,
            "metadata": {},
            "outputs": [],
            "source": [
                "d <- cbind(b, 2*B)\n",
                "colnames(d) <- c(\"(Intercept)\", \"t1\", \"t2\")\n",
                "d\n"
            ]
        },
        {
            "cell_type": "markdown",
            "metadata": {},
            "source": [
                "\n",
                "\n"
            ]
        },
        {
            "cell_type": "code",
            "execution_count": null,
            "metadata": {},
            "outputs": [],
            "source": [
                "s2 <- summary(fit)$sigma^2\n",
                "s2\n"
            ]
        },
        {
            "cell_type": "markdown",
            "metadata": {},
            "source": [
                "\n",
                "\n"
            ]
        },
        {
            "cell_type": "code",
            "execution_count": null,
            "metadata": {},
            "outputs": [],
            "source": [
                "X <- cbind(1, as.matrix(crdat[,-3]))\n",
                "XtXi <- solve(t(X) %*% X)\n",
                "XtXi\n"
            ]
        },
        {
            "cell_type": "markdown",
            "metadata": {},
            "source": [
                "\n",
                "\n"
            ]
        },
        {
            "cell_type": "code",
            "execution_count": null,
            "metadata": {},
            "outputs": [],
            "source": [
                "Vard <- function(t1, t2, s2, XtXi) {\n",
                "  v11 <- XtXi[2,2] + 4*t1^2*XtXi[4,4] + t2^2*XtXi[6,6]\n",
                "  v22 <- XtXi[3,3] + t1^2*XtXi[6,6] + 4*t2^2*XtXi[5,5]\n",
                "  v12 <- v21 <- 4*t1*t2*XtXi[4,5] + t1*t2*XtXi[6,6]\n",
                "  v <- s2* matrix(c(v11,v12,v21,v22), ncol=2, byrow=TRUE)\n",
                "  v\n",
                "}\n"
            ]
        },
        {
            "cell_type": "markdown",
            "metadata": {},
            "source": [
                "\n",
                "\n"
            ]
        },
        {
            "cell_type": "code",
            "execution_count": null,
            "metadata": {},
            "outputs": [],
            "source": [
                "CIqf <- function(t1, t2, s2, XtXi, b, B) {\n",
                "  dt <- b + 2*B %*% c(t1, t2)\n",
                "  V <- Vard(t1, t2, s2, XtXi)\n",
                "  Vi <- solve(V)\n",
                "  t(dt) %*% Vi %*% dt\n",
                "}\n"
            ]
        },
        {
            "cell_type": "markdown",
            "metadata": {},
            "source": [
                "\n",
                "\n"
            ]
        },
        {
            "cell_type": "code",
            "execution_count": null,
            "metadata": {},
            "outputs": [],
            "source": [
                "quadform <- rep(NA, nrow(g))\n",
                "for(i in 1:nrow(g)) quadform[i] <- CIqf(g[i,1], g[i,2], s2, XtXi, b, B)\n"
            ]
        },
        {
            "cell_type": "markdown",
            "metadata": {},
            "source": [
                "\n",
                "\n"
            ]
        },
        {
            "cell_type": "code",
            "execution_count": null,
            "metadata": {},
            "outputs": [],
            "source": [
                "ci90 <- quadform <= 2*qf(0.9, 2, nrow(X) - ncol(X))\n",
                "ci95 <- quadform <= 2*qf(0.95, 2, nrow(X) - ncol(X))\n",
                "par(pty=\"s\")\n",
                "image(xx, xx, matrix(ci90 + ci95, ncol=length(xx)), xlab=\"x1\", ylab=\"x2\", col=c(\"white\", \"lightgray\", \"darkgray\"))\n",
                "text(c(-0.2,-1), c(-0.5,1), c(\"90%\",\"95%\"))\n"
            ]
        },
        {
            "cell_type": "markdown",
            "metadata": {},
            "source": [
                "\n",
                "\n"
            ]
        },
        {
            "cell_type": "code",
            "execution_count": null,
            "metadata": {},
            "outputs": [],
            "source": [
                "summary(fit)$r.squared\n",
                "\n"
            ]
        },
        {
            "cell_type": "markdown",
            "metadata": {},
            "source": [
                "\n",
                "\n"
            ]
        },
        {
            "cell_type": "code",
            "execution_count": null,
            "metadata": {},
            "outputs": [],
            "source": [
                "crdat$y <- c(87.6, 86.5, 85.7, 86.9, 86.7, 86.8, 87.4, 86.7, 90.3, 91.0, 90.8)\n",
                "fit2 <- lm(y ~ ., data=crdat)\n",
                "summary(fit2)$r.squared\n"
            ]
        },
        {
            "cell_type": "markdown",
            "metadata": {},
            "source": [
                "\n",
                "\n"
            ]
        },
        {
            "cell_type": "code",
            "execution_count": null,
            "metadata": {},
            "outputs": [],
            "source": [
                "b <- coef(fit)[2:3]\n",
                "B <- matrix(NA, nrow=2, ncol=2)\n",
                "diag(B) <- coef(fit)[4:5]\n",
                "B[1,2] <- B[2,1] <- coef(fit)[6]/2\n",
                "xs <- -(1/2)*solve(B, b)\n",
                "s2 <- summary(fit2)$sigma^2\n",
                "for(i in 1:nrow(g)) quadform[i] <- CIqf(g[i,1], g[i,2], s2, XtXi, b, B)\n"
            ]
        },
        {
            "cell_type": "markdown",
            "metadata": {},
            "source": [
                "\n",
                "\n"
            ]
        },
        {
            "cell_type": "code",
            "execution_count": null,
            "metadata": {},
            "outputs": [],
            "source": [
                "ci95 <- quadform <= 2*qf(0.95, 2, nrow(X)-ncol(X))\n",
                "par(pty=\"s\")\n",
                "image(xx, xx, matrix(ci95, ncol=length(xx)), xlab=\"x1\", ylab=\"x2\",\n",
                "    col=c(\"white\", \"lightgray\"))\n"
            ]
        },
        {
            "cell_type": "markdown",
            "metadata": {},
            "source": [
                "\n",
                "\n"
            ]
        },
        {
            "cell_type": "code",
            "execution_count": null,
            "metadata": {},
            "outputs": [],
            "source": [
                "chem <- read.table(\"dataset/chemical.txt\", header=TRUE)\n",
                "X <- data.frame(x1=chem$x1, x2=chem$x2, x11=chem$x1^2, x22=chem$x2^2, \n",
                "  x12=chem$x1*chem$x2)\n",
                "y <- chem$y\n",
                "fit <- lm(y ~ ., data=X)\n",
                "b <- coef(fit)[2:3]\n",
                "B <- matrix(NA, nrow=2, ncol=2)\n",
                "diag(B) <- coef(fit)[4:5]\n",
                "B[1,2] <- B[2,1] <- coef(fit)[6]/2\n",
                "E <- eigen(B)\n",
                "lambda <- E$values\n",
                "o <- order(abs(lambda), decreasing=TRUE)\n",
                "P <- E$vectors[,o]\n",
                "print(lambda <- lambda[o])\n"
            ]
        },
        {
            "cell_type": "markdown",
            "metadata": {},
            "source": [
                "\n",
                "\n"
            ]
        },
        {
            "cell_type": "code",
            "execution_count": null,
            "metadata": {},
            "outputs": [],
            "source": [
                "U <- data.frame(cbind(chem$x1, chem$x2) %*% P)\n",
                "names(U) <- c(\"u1\", \"u2\")\n",
                "U$u11 <- U$u1^2\n",
                "U$u22 <- U$u2^2\n",
                "fitU <- lm(y ~ ., data=U)\n"
            ]
        },
        {
            "cell_type": "markdown",
            "metadata": {},
            "source": [
                "\n",
                "\n"
            ]
        },
        {
            "cell_type": "code",
            "execution_count": null,
            "metadata": {},
            "outputs": [],
            "source": [
                "rbind(dlr2=coef(fitU)[-1], eigen=c(b %*% P, lambda))\n",
                "\n"
            ]
        },
        {
            "cell_type": "markdown",
            "metadata": {},
            "source": [
                "\n",
                "\n"
            ]
        },
        {
            "cell_type": "code",
            "execution_count": null,
            "metadata": {},
            "outputs": [],
            "source": [
                "summary(fitU)$coefficients[4:5,]\n",
                "\n"
            ]
        },
        {
            "cell_type": "markdown",
            "metadata": {},
            "source": [
                "\n",
                "\n"
            ]
        },
        {
            "cell_type": "code",
            "execution_count": null,
            "metadata": {},
            "outputs": [],
            "source": [
                "confint(fitU)[4:5,]\n",
                "\n"
            ]
        },
        {
            "cell_type": "markdown",
            "metadata": {},
            "source": [
                "\n",
                "\n"
            ]
        }
    ],
    "metadata": {
        "anaconda-cloud": "",
        "kernelspec": {
            "display_name": "R",
            "langauge": "R",
            "name": "ir"
        },
        "language_info": {
            "codemirror_mode": "r",
            "file_extension": ".r",
            "mimetype": "text/x-r-source",
            "name": "R",
            "pygments_lexer": "r",
            "version": "3.4.1"
        }
    },
    "nbformat": 4,
    "nbformat_minor": 1
}
