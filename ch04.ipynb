{
    "cells": [
        {
            "cell_type": "markdown",
            "metadata": {},
            "source": [
                "# 4.1 Latin hypercube sample\n",
                "\n"
            ]
        },
        {
            "cell_type": "code",
            "execution_count": null,
            "metadata": {},
            "outputs": [],
            "source": [
                "set.seed(20200929)\n",
                "m <- 2\n",
                "n <- 10\n",
                "X <- matrix(runif(n*m), ncol=m)\n",
                "colnames(X) <-paste0(\"x\", 1:m)\n",
                "X\n"
            ]
        },
        {
            "cell_type": "markdown",
            "metadata": {},
            "source": [
                "\n",
                "\n"
            ]
        },
        {
            "cell_type": "code",
            "execution_count": null,
            "metadata": {},
            "outputs": [],
            "source": [
                "par(pty=\"s\")\n",
                "plot(X, xlim=c(0, 1), ylim=c(0, 1))\n"
            ]
        },
        {
            "cell_type": "markdown",
            "metadata": {},
            "source": [
                "\n",
                "\n"
            ]
        },
        {
            "cell_type": "code",
            "execution_count": null,
            "metadata": {},
            "outputs": [],
            "source": [
                "l <- (-(n - 1)/2):((n - 1)/2)\n",
                "l\n"
            ]
        },
        {
            "cell_type": "markdown",
            "metadata": {},
            "source": [
                "\n",
                "\n"
            ]
        },
        {
            "cell_type": "code",
            "execution_count": null,
            "metadata": {},
            "outputs": [],
            "source": [
                "L <- matrix(NA, nrow=n, ncol=m)\n",
                "for(j in 1:m) L[,j] <- sample(l, n)\n",
                "L\n"
            ]
        },
        {
            "cell_type": "markdown",
            "metadata": {},
            "source": [
                "\n",
                "\n"
            ]
        },
        {
            "cell_type": "code",
            "execution_count": null,
            "metadata": {},
            "outputs": [],
            "source": [
                "U <- matrix(runif(n*m), ncol=m)\n",
                "X <- (L + (n - 1)/2 + U)/n\n",
                "X\n"
            ]
        },
        {
            "cell_type": "markdown",
            "metadata": {},
            "source": [
                "\n",
                "\n"
            ]
        },
        {
            "cell_type": "code",
            "execution_count": null,
            "metadata": {},
            "outputs": [],
            "source": [
                "par(pty=\"s\")\n",
                "plot(X, xlim=c(0, 1), ylim=c(0, 1), xlab=\"x1\", ylab=\"x2\")\n",
                "abline(h=c((l + (n-1)/2)/n, 1), col=\"grey\", lty=2)\n",
                "abline(v=c((l + (n-1)/2)/n, 1), col=\"grey\", lty=2)\n"
            ]
        },
        {
            "cell_type": "markdown",
            "metadata": {},
            "source": [
                "\n",
                "\n"
            ]
        },
        {
            "cell_type": "code",
            "execution_count": null,
            "metadata": {},
            "outputs": [],
            "source": [
                "mylhs <- function(n, m) {\n",
                "  ## generate the Latin hypercube\n",
                "  l <- (-(n - 1)/2):((n - 1)/2)\n",
                "  L <- matrix(NA, nrow=n, ncol=m)\n",
                "  for (j in 1:m) L[,j] <- sample(l, n)\n",
                "  \n",
                "  U <- matrix(runif(n*m), ncol=m)\n",
                "  X <- (L + (n - 1)/2 + U)/n\n",
                "  return(list(X=X, g=c((l + (n - 1)/2)/n, 1)))\n",
                "}\n"
            ]
        },
        {
            "cell_type": "markdown",
            "metadata": {},
            "source": [
                "\n",
                "\n"
            ]
        },
        {
            "cell_type": "code",
            "execution_count": null,
            "metadata": {},
            "outputs": [],
            "source": [
                "Dlist <- mylhs(10, 3)\n",
                "Dlist\n"
            ]
        },
        {
            "cell_type": "markdown",
            "metadata": {},
            "source": [
                "\n",
                "\n"
            ]
        },
        {
            "cell_type": "code",
            "execution_count": null,
            "metadata": {},
            "outputs": [],
            "source": [
                "par(pty=\"s\")\n",
                "plot(Dlist$X[,1:2], xlim=c(0, 1), ylim=c(0, 1), xlab=\"x1\", ylab=\"x2\")\n",
                "abline(h=Dlist$g, col=\"grey\", lty=2)\n",
                "abline(v=Dlist$g, col=\"grey\", lty=2)\n"
            ]
        },
        {
            "cell_type": "markdown",
            "metadata": {},
            "source": [
                "\n",
                "\n"
            ]
        },
        {
            "cell_type": "code",
            "execution_count": null,
            "metadata": {},
            "outputs": [],
            "source": [
                "Is <- as.list(as.data.frame(combn(ncol(Dlist$X), 2)))\n",
                "par(pty=\"s\")\n",
                "par(mfrow=c(1, length(Is)))\n",
                "for (i in Is) {\n",
                "  plot(Dlist$X[,i], xlim=c(0,1), ylim=c(0,1),\n",
                "       xlab=paste0(\"x\", i[1]), ylab=paste0(\"x\", i[2]))\n",
                "  abline(h=Dlist$g, col=\"grey\", lty=3)\n",
                "  abline(v=Dlist$g, col=\"grey\", lty=3)\n",
                "}\n"
            ]
        },
        {
            "cell_type": "markdown",
            "metadata": {},
            "source": [
                "\n",
                "\n"
            ]
        },
        {
            "cell_type": "code",
            "execution_count": null,
            "metadata": {},
            "outputs": [],
            "source": [
                "X <- mylhs(1000, 3)$X\n",
                "par(pty=\"s\")\n",
                "par(mfrow=c(1, ncol(X)))\n",
                "for(i in 1:ncol(X)) hist(X[,1], main=\"\", xlab=paste(\"x\", i))\n"
            ]
        },
        {
            "cell_type": "markdown",
            "metadata": {},
            "source": [
                "\n",
                "\n"
            ]
        },
        {
            "cell_type": "code",
            "execution_count": null,
            "metadata": {},
            "outputs": [],
            "source": [
                "count <- 0\n",
                "while(1) { \n",
                "  count <- count + 1\n",
                "  Dlist <- mylhs(10, 2)\n",
                "  o <- order(Dlist$X[,1])\n",
                "  x <- Dlist$X[o,2]\n",
                "  if(all(x[1:9] < x[2:10] + 1/20)) break \n",
                "}\n"
            ]
        },
        {
            "cell_type": "markdown",
            "metadata": {},
            "source": [
                "\n",
                "\n"
            ]
        },
        {
            "cell_type": "code",
            "execution_count": null,
            "metadata": {},
            "outputs": [],
            "source": [
                "par(pty=\"s\")\n",
                "plot(Dlist$X, xlim=c(0,1), ylim=c(0,1), xlab=\"x1\", ylab=\"x2\")\n",
                "text(0.2, 0.85, paste(\"count =\", count), cex = 0.8)\n",
                "abline(h=Dlist$g, col=\"grey\", lty=2)\n",
                "abline(v=Dlist$g, col=\"grey\", lty=2)\n"
            ]
        },
        {
            "cell_type": "markdown",
            "metadata": {},
            "source": [
                "\n",
                "\n"
            ]
        },
        {
            "cell_type": "code",
            "execution_count": null,
            "metadata": {},
            "outputs": [],
            "source": [
                "mylhs.beta <- function(n, m, shape1, shape2)\n",
                " {\n",
                "  ## generate the Latin Hypercube and turn it into a sample\n",
                "  l <- (-(n - 1)/2):((n - 1)/2)\n",
                "  L <- matrix(NA, nrow=n, ncol=m)\n",
                "  for(j in 1:m) L[,j] <- sample(l, n)\n",
                "  U <- matrix(runif(n*m), ncol=m)\n",
                "  X <- (L + (n - 1)/2 + U)/n\n",
                "\n",
                "  ## calculate the grid for that design\n",
                "  g <- (L + (n - 1)/2)/n\n",
                "  g <- rbind(g, 1)\n",
                "\n",
                "  for(j in 1:m) { ## redistrbute according to beta quantiles\n",
                "    X[,j] <- qbeta(X[,j], shape1[j], shape2[j])\n",
                "    g[,j] <- qbeta(g[,j], shape1[j], shape2[j])\n",
                "  }\n",
                "  colnames(X) <- paste0(\"x\", 1:m)\n",
                "\n",
                "  ## return the design and the grid it lives on for visualization\n",
                "  return(list(X=X, g=g))\n",
                "}\n"
            ]
        },
        {
            "cell_type": "markdown",
            "metadata": {},
            "source": [
                "\n",
                "\n"
            ]
        },
        {
            "cell_type": "code",
            "execution_count": null,
            "metadata": {},
            "outputs": [],
            "source": [
                "Dlist <- mylhs.beta(10, 2, shape1=c(3,1/2), shape2=c(2,1/2))\n",
                "\n"
            ]
        },
        {
            "cell_type": "markdown",
            "metadata": {},
            "source": [
                "\n",
                "\n"
            ]
        },
        {
            "cell_type": "code",
            "execution_count": null,
            "metadata": {},
            "outputs": [],
            "source": [
                "par(pty=\"s\")\n",
                "plot(Dlist$X, xlim=c(0,1), ylim=c(0,1), xlab=\"x1\", ylab=\"x2\")\n",
                "abline(v=Dlist$g[,1], col=\"grey\", lty=2)\n",
                "abline(h=Dlist$g[,1], col=\"grey\", lty=2)\n"
            ]
        },
        {
            "cell_type": "markdown",
            "metadata": {},
            "source": [
                "\n",
                "\n"
            ]
        },
        {
            "cell_type": "code",
            "execution_count": null,
            "metadata": {},
            "outputs": [],
            "source": [
                "X <- mylhs.beta(1000, 2, shape1=c(3,1/2), shape2=c(2,1/2))$X\n",
                "head(X)\n"
            ]
        },
        {
            "cell_type": "markdown",
            "metadata": {},
            "source": [
                "\n",
                "\n"
            ]
        },
        {
            "cell_type": "code",
            "execution_count": null,
            "metadata": {},
            "outputs": [],
            "source": [
                "par(pty=\"s\")\n",
                "par(mfrow=c(1,2))\n",
                "x <- seq(0, 1, length=100)\n",
                "hist(X[,1], main=\"\", xlab=\"x1\", freq=FALSE)\n",
                "lines(x, dbeta(x, 3, 2), col=2)\n",
                "hist(X[,2], main=\"\", xlab=\"x2\", freq=FALSE)\n",
                "lines(x, dbeta(x, 1/2, 1/2), col=2)\n"
            ]
        },
        {
            "cell_type": "markdown",
            "metadata": {},
            "source": [
                "\n",
                "\n"
            ]
        },
        {
            "cell_type": "code",
            "execution_count": null,
            "metadata": {},
            "outputs": [],
            "source": [
                "Dlist <- mylhs(20, 2)\n",
                "Xtrain <- Dlist$X[1:10,]\n",
                "Xtest <- Dlist$X[11:20,]\n"
            ]
        },
        {
            "cell_type": "markdown",
            "metadata": {},
            "source": [
                "\n",
                "\n"
            ]
        },
        {
            "cell_type": "code",
            "execution_count": null,
            "metadata": {},
            "outputs": [],
            "source": [
                "par(pty=\"s\")\n",
                "plot(Xtrain, xlim=c(0,1), ylim=c(0,1), xlab=\"x1\", ylab=\"x2\")\n",
                "points(Xtest, pch=20)\n",
                "abline(v=Dlist$g, col=\"grey\", lty=2)\n",
                "abline(h=Dlist$g, col=\"grey\", lty=2)\n"
            ]
        },
        {
            "cell_type": "markdown",
            "metadata": {},
            "source": [
                "# 4.2 Maximin designs\n",
                "\n"
            ]
        },
        {
            "cell_type": "code",
            "execution_count": null,
            "metadata": {},
            "outputs": [],
            "source": [
                "library(plgp)\n",
                "\n"
            ]
        },
        {
            "cell_type": "markdown",
            "metadata": {},
            "source": [
                "\n",
                "\n"
            ]
        },
        {
            "cell_type": "code",
            "execution_count": null,
            "metadata": {},
            "outputs": [],
            "source": [
                "distance(X[1:2], X[3:5])\n",
                "\n"
            ]
        },
        {
            "cell_type": "markdown",
            "metadata": {},
            "source": [
                "\n",
                "\n"
            ]
        },
        {
            "cell_type": "code",
            "execution_count": null,
            "metadata": {},
            "outputs": [],
            "source": [
                "X1 <- matrix(runif(n*m), ncol=m)\n",
                "dX1 <- distance(X1)\n",
                "X1 <- matrix(runif(n*m), ncol=m)\n",
                "dX1 <- distance(X1)\n",
                "dX1 <- dX1[upper.tri(dX1)]\n",
                "md1 <- min(dX1)\n",
                "X2 <- matrix(runif(n*m), ncol=m)\n",
                "dX2 <- distance(X2)\n",
                "dX2 <- dX2[upper.tri(dX2)]\n",
                "md2 <- min(dX2)\n"
            ]
        },
        {
            "cell_type": "markdown",
            "metadata": {},
            "source": [
                "\n",
                "\n"
            ]
        },
        {
            "cell_type": "code",
            "execution_count": null,
            "metadata": {},
            "outputs": [],
            "source": [
                "par(pty=\"s\")\n",
                "plot(X1, xlim=c(0, 1.25), ylim=c(0, 1.25), xlab=\"x1\", ylab=\"x2\")\n",
                "points(X2, pch=20)\n",
                "legend(\"topright\", paste(\"md =\", round(c(md1, md2), 5)), pch=c(21, 20), cex=0.75)\n"
            ]
        },
        {
            "cell_type": "markdown",
            "metadata": {},
            "source": [
                "\n",
                "\n"
            ]
        },
        {
            "cell_type": "code",
            "execution_count": null,
            "metadata": {},
            "outputs": [],
            "source": [
                "T <- 10000\n",
                "for(t in 1:T) {\n",
                "  row <- sample(1:n, 1)\n",
                "  xold <- X1[row,]\n",
                "  X1[row,] <- runif(m)\n",
                "  d <- distance(X1)\n",
                "  d <- d[upper.tri(d)]\n",
                "  mdprime <- min(d)\n",
                "  if(mdprime >md1) {\n",
                "    md1 <- mdprime\n",
                "  } else {\n",
                "    X1[row,] <- xold\n",
                "  }\n",
                "}\n"
            ]
        },
        {
            "cell_type": "markdown",
            "metadata": {},
            "source": [
                "\n",
                "\n"
            ]
        },
        {
            "cell_type": "code",
            "execution_count": null,
            "metadata": {},
            "outputs": [],
            "source": [
                "par(pty=\"s\")\n",
                "plot(X1, xlim=c(0,1), ylim=c(0,1), xlab=\"x1\", ylab=\"x2\")\n"
            ]
        },
        {
            "cell_type": "markdown",
            "metadata": {},
            "source": [
                "\n",
                "\n"
            ]
        },
        {
            "cell_type": "code",
            "execution_count": null,
            "metadata": {},
            "outputs": [],
            "source": [
                "mymaximin <- function(n, m, T=100000) {\n",
                "  X <- matrix(runif(n*m), ncol=m)     ## initial design\n",
                "  d <- distance(X)\n",
                "  d <- d[upper.tri(d)]\n",
                "  md <- min(d)\n",
                "\n",
                "  for(t in 1:T) {\n",
                "    row <- sample(1:n, 1)\n",
                "    xold <- X[row,]                   ## random row selection\n",
                "    X[row,] <- runif(m)               ## random new row\n",
                "    d <- distance(X)\n",
                "    d <- d[upper.tri(d)]\n",
                "    mdprime <- min(d)\n",
                "    if(mdprime > md) { md <- mdprime  ## accept\n",
                "    } else { X[row,] <- xold }        ## reject\n",
                "  }\n",
                "\n",
                "  return(X)\n",
                "}\n"
            ]
        },
        {
            "cell_type": "markdown",
            "metadata": {},
            "source": [
                "\n",
                "\n"
            ]
        },
        {
            "cell_type": "code",
            "execution_count": null,
            "metadata": {},
            "outputs": [],
            "source": [
                "X <- mymaximin(10, 3)\n",
                "\n"
            ]
        },
        {
            "cell_type": "markdown",
            "metadata": {},
            "source": [
                "\n",
                "\n"
            ]
        },
        {
            "cell_type": "code",
            "execution_count": null,
            "metadata": {},
            "outputs": [],
            "source": [
                "Is <- as.list(as.data.frame(combn(ncol(X), 2)))\n",
                "par(pty=\"s\")\n",
                "par(mfrow=c(1, length(Is)))\n",
                "for(i in Is) {\n",
                "  plot(X[,i], xlim=c(0,1), ylim=c(0,1), type=\"n\", \n",
                "       xlab=paste0(\"x\", i[1]), ylab=paste0(\"x\", i[2]))\n",
                "  text(X[,i], labels=1:nrow(X))\n",
                "}\n"
            ]
        },
        {
            "cell_type": "markdown",
            "metadata": {},
            "source": [
                "\n",
                "\n"
            ]
        },
        {
            "cell_type": "code",
            "execution_count": null,
            "metadata": {},
            "outputs": [],
            "source": [
                "mymaximin <- function(n, m, T=100000, Xorig=NULL) {   \n",
                "  X <- matrix(runif(n*m), ncol=m)     ## initial design\n",
                "  d <- distance(X)\n",
                "  d <- d[upper.tri(d)]\n",
                "  md <- min(d)\n",
                "  if(!is.null(Xorig)) {               ## new code\n",
                "    md2 <- min(distance(X, Xorig))\n",
                "    if(md2 < md) md <- md2\n",
                "  }\n",
                "\n",
                "  for(t in 1:T) {\n",
                "    row <- sample(1:n, 1)\n",
                "    xold <- X[row,]                   ## random row selection\n",
                "    X[row,] <- runif(m)               ## random new row\n",
                "    d <- distance(X)\n",
                "    d <- d[upper.tri(d)]\n",
                "    mdprime <- min(d)\n",
                "    if(!is.null(Xorig)) {             ## new code\n",
                "      mdprime2 <- min(distance(X, Xorig))\n",
                "      if(mdprime2 < mdprime) mdprime <- mdprime2\n",
                "    }\n",
                "    if(mdprime > md) { md <- mdprime  ## accept\n",
                "    } else { X[row,] <- xold }        ## reject\n",
                "  }\n",
                "  \n",
                "  return(X)\n",
                "}\n"
            ]
        },
        {
            "cell_type": "markdown",
            "metadata": {},
            "source": [
                "\n",
                "\n"
            ]
        },
        {
            "cell_type": "code",
            "execution_count": null,
            "metadata": {},
            "outputs": [],
            "source": [
                "X2 <- mymaximin(5, 2, Xorig=X1)\n",
                "\n"
            ]
        },
        {
            "cell_type": "markdown",
            "metadata": {},
            "source": [
                "\n",
                "\n"
            ]
        },
        {
            "cell_type": "code",
            "execution_count": null,
            "metadata": {},
            "outputs": [],
            "source": [
                "par(pty=\"s\")\n",
                "plot(X1, xlim=c(0,1), ylim=c(0,1), xlab=\"x1\", ylab=\"x2\")\n",
                "points(X2, pch=20)\n"
            ]
        },
        {
            "cell_type": "markdown",
            "metadata": {},
            "source": [
                "\n",
                "\n"
            ]
        },
        {
            "cell_type": "code",
            "execution_count": null,
            "metadata": {},
            "outputs": [],
            "source": [
                "X2 <- mymaximin(5, 3, Xorig=X)\n",
                "X <- rbind(X2, X)\n"
            ]
        },
        {
            "cell_type": "markdown",
            "metadata": {},
            "source": [
                "\n",
                "\n"
            ]
        },
        {
            "cell_type": "code",
            "execution_count": null,
            "metadata": {},
            "outputs": [],
            "source": [
                "Is <- as.list(as.data.frame(combn(ncol(X),2)))\n",
                "par(pty=\"s\")\n",
                "par(mfrow=c(1,length(Is)))\n",
                "for(i in Is) {\n",
                "  plot(X[,i], xlim=c(0,1), ylim=c(0,1), type=\"n\", xlab=paste0(\"x\", i[1]), \n",
                "    ylab=paste0(\"x\", i[2]))\n",
                "  text(X[,i], labels=1:nrow(X), col=c(rep(2,5), rep(1,10))) \n",
                "}\n"
            ]
        },
        {
            "cell_type": "markdown",
            "metadata": {},
            "source": [
                "\n",
                "\n"
            ]
        },
        {
            "cell_type": "code",
            "execution_count": null,
            "metadata": {},
            "outputs": [],
            "source": [
                "library(scatterplot3d)\n",
                "par(pty=\"s\")\n",
                "scatterplot3d(X, type=\"h\", color=c(rep(2,5), rep(1,10)),\n",
                "  pch=c(rep(20,5), rep(21,10)), xlab=\"x1\", ylab=\"x2\", zlab=\"x3\")\n"
            ]
        },
        {
            "cell_type": "markdown",
            "metadata": {},
            "source": [
                "\n",
                "\n"
            ]
        },
        {
            "cell_type": "code",
            "execution_count": null,
            "metadata": {},
            "outputs": [],
            "source": [
                "library(lhs)\n",
                "X <- maximinLHS(10, 2)\n",
                "X\n"
            ]
        },
        {
            "cell_type": "markdown",
            "metadata": {},
            "source": [
                "\n",
                "\n"
            ]
        },
        {
            "cell_type": "code",
            "execution_count": null,
            "metadata": {},
            "outputs": [],
            "source": [
                "par(pty=\"s\")\n",
                "plot(X, xlim=c(0,1), ylim=c(0,1), xlab=\"x1\", ylab=\"x2\")\n",
                "abline(h=seq(0, 1, length=11), col=\"gray\", lty=2)\n",
                "abline(v=seq(0, 1, length=11), col=\"gray\", lty=2)\n"
            ]
        },
        {
            "cell_type": "markdown",
            "metadata": {},
            "source": [
                "\n",
                "\n"
            ]
        }
    ],
    "metadata": {
        "anaconda-cloud": "",
        "kernelspec": {
            "display_name": "R",
            "langauge": "R",
            "name": "ir"
        },
        "language_info": {
            "codemirror_mode": "r",
            "file_extension": ".r",
            "mimetype": "text/x-r-source",
            "name": "R",
            "pygments_lexer": "r",
            "version": "3.4.1"
        }
    },
    "nbformat": 4,
    "nbformat_minor": 1
}
