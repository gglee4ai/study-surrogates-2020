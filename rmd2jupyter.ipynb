{
 "cells": [
  {
   "cell_type": "code",
   "execution_count": 1,
   "metadata": {},
   "outputs": [
    {
     "name": "stderr",
     "output_type": "stream",
     "text": [
      "Downloading GitHub repo mkearney/rmd2jupyter@HEAD\n",
      "\n"
     ]
    },
    {
     "name": "stdout",
     "output_type": "stream",
     "text": [
      "jsonlite (1.7.1 -> 1.7.2) [CRAN]\n"
     ]
    },
    {
     "name": "stderr",
     "output_type": "stream",
     "text": [
      "Installing 1 packages: jsonlite\n",
      "\n",
      "Updating HTML index of packages in '.Library'\n",
      "\n",
      "Making 'packages.html' ...\n",
      " done\n",
      "\n"
     ]
    },
    {
     "name": "stdout",
     "output_type": "stream",
     "text": [
      "\u001b[32m✔\u001b[39m  \u001b[90mchecking for file ‘/tmp/RtmpB2jKLx/remotes1fb76d41224/mkearney-rmd2jupyter-d2bd2aa/DESCRIPTION’\u001b[39m\u001b[36m\u001b[39m\n",
      "\u001b[90m─\u001b[39m\u001b[90m  \u001b[39m\u001b[90mpreparing ‘rmd2jupyter’:\u001b[39m\u001b[36m\u001b[39m\n",
      "\u001b[32m✔\u001b[39m  \u001b[90mchecking DESCRIPTION meta-information\u001b[39m\u001b[36m\u001b[39m\n",
      "\u001b[90m─\u001b[39m\u001b[90m  \u001b[39m\u001b[90mchecking for LF line-endings in source and make files and shell scripts\u001b[39m\u001b[36m\u001b[39m\n",
      "\u001b[90m─\u001b[39m\u001b[90m  \u001b[39m\u001b[90mchecking for empty or unneeded directories\u001b[39m\u001b[36m\u001b[39m\n",
      "\u001b[90m─\u001b[39m\u001b[90m  \u001b[39m\u001b[90mbuilding ‘rmd2jupyter_0.1.0.tar.gz’\u001b[39m\u001b[36m\u001b[39m\n",
      "   \n",
      "\r"
     ]
    }
   ],
   "source": [
    "devtools::install_github(\"mkearney/rmd2jupyter\")\n",
    "library(rmd2jupyter)"
   ]
  },
  {
   "cell_type": "code",
   "execution_count": 3,
   "metadata": {},
   "outputs": [
    {
     "data": {
      "text/html": [
       "<style>\n",
       ".list-inline {list-style: none; margin:0; padding: 0}\n",
       ".list-inline>li {display: inline-block}\n",
       ".list-inline>li:not(:last-child)::after {content: \"\\00b7\"; padding: 0 .5ex}\n",
       "</style>\n",
       "<ol class=list-inline><li>'autofs'</li><li>'bin'</li><li>'boot'</li><li>'dev'</li><li>'etc'</li><li>'home'</li><li>'lib'</li><li>'lib64'</li><li>'media'</li><li>'mnt'</li><li>'proc'</li><li>'root'</li><li>'run'</li><li>'sbin'</li><li>'srv'</li><li>'sys'</li><li>'tmp'</li><li>'usr'</li><li>'var'</li></ol>\n"
      ],
      "text/latex": [
       "\\begin{enumerate*}\n",
       "\\item 'autofs'\n",
       "\\item 'bin'\n",
       "\\item 'boot'\n",
       "\\item 'dev'\n",
       "\\item 'etc'\n",
       "\\item 'home'\n",
       "\\item 'lib'\n",
       "\\item 'lib64'\n",
       "\\item 'media'\n",
       "\\item 'mnt'\n",
       "\\item 'proc'\n",
       "\\item 'root'\n",
       "\\item 'run'\n",
       "\\item 'sbin'\n",
       "\\item 'srv'\n",
       "\\item 'sys'\n",
       "\\item 'tmp'\n",
       "\\item 'usr'\n",
       "\\item 'var'\n",
       "\\end{enumerate*}\n"
      ],
      "text/markdown": [
       "1. 'autofs'\n",
       "2. 'bin'\n",
       "3. 'boot'\n",
       "4. 'dev'\n",
       "5. 'etc'\n",
       "6. 'home'\n",
       "7. 'lib'\n",
       "8. 'lib64'\n",
       "9. 'media'\n",
       "10. 'mnt'\n",
       "11. 'proc'\n",
       "12. 'root'\n",
       "13. 'run'\n",
       "14. 'sbin'\n",
       "15. 'srv'\n",
       "16. 'sys'\n",
       "17. 'tmp'\n",
       "18. 'usr'\n",
       "19. 'var'\n",
       "\n",
       "\n"
      ],
      "text/plain": [
       " [1] \"autofs\" \"bin\"    \"boot\"   \"dev\"    \"etc\"    \"home\"   \"lib\"    \"lib64\" \n",
       " [9] \"media\"  \"mnt\"    \"proc\"   \"root\"   \"run\"    \"sbin\"   \"srv\"    \"sys\"   \n",
       "[17] \"tmp\"    \"usr\"    \"var\"   "
      ]
     },
     "metadata": {},
     "output_type": "display_data"
    }
   ],
   "source": [
    "list.files()"
   ]
  },
  {
   "cell_type": "code",
   "execution_count": null,
   "metadata": {},
   "outputs": [],
   "source": []
  }
 ],
 "metadata": {
  "kernelspec": {
   "display_name": "R",
   "language": "R",
   "name": "ir"
  },
  "language_info": {
   "codemirror_mode": "r",
   "file_extension": ".r",
   "mimetype": "text/x-r-source",
   "name": "R",
   "pygments_lexer": "r",
   "version": "4.0.2"
  }
 },
 "nbformat": 4,
 "nbformat_minor": 4
}
